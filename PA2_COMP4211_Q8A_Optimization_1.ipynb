{
 "cells": [
  {
   "cell_type": "markdown",
   "metadata": {},
   "source": [
    "### Check GPU"
   ]
  },
  {
   "cell_type": "code",
   "execution_count": 1,
   "metadata": {},
   "outputs": [],
   "source": [
    "# Data manipulation\n",
    "import pandas as pd\n",
    "import numpy as np\n",
    "import matplotlib.pyplot as plt\n",
    "import os\n",
    "\n",
    "#Pytorch\n",
    "import torch\n",
    "from torch.utils.data import Dataset, DataLoader\n",
    "import torchvision\n",
    "import torchvision.transforms as transforms\n",
    "import torch.nn as nn\n",
    "import torch.nn.functional as F\n",
    "import torch.optim as optim\n",
    "\n",
    "from PIL import Image\n",
    "import matplotlib.pyplot as plt\n",
    "\n",
    "from torchsummaryX import summary\n",
    "from torch.utils.tensorboard import SummaryWriter\n",
    "from torchvision import models\n",
    "from tqdm.notebook import tqdm\n"
   ]
  },
  {
   "cell_type": "code",
   "execution_count": 2,
   "metadata": {},
   "outputs": [
    {
     "name": "stdout",
     "output_type": "stream",
     "text": [
      "2.4.1\n"
     ]
    }
   ],
   "source": [
    "from tensorboard import version; print(version.VERSION)"
   ]
  },
  {
   "cell_type": "code",
   "execution_count": 3,
   "metadata": {},
   "outputs": [
    {
     "data": {
      "text/plain": [
       "device(type='cuda')"
      ]
     },
     "execution_count": 3,
     "metadata": {},
     "output_type": "execute_result"
    }
   ],
   "source": [
    "# check GPU support\n",
    "device = torch.device('cuda' if torch.cuda.is_available() else 'cpu')\n",
    "device"
   ]
  },
  {
   "cell_type": "markdown",
   "metadata": {},
   "source": [
    "### Dataset and dataloader"
   ]
  },
  {
   "cell_type": "code",
   "execution_count": 4,
   "metadata": {},
   "outputs": [],
   "source": [
    "PATH = 'C:/Users/trang/OneDrive - HKUST Connect/COMP_4211/pa2/' "
   ]
  },
  {
   "cell_type": "markdown",
   "metadata": {},
   "source": [
    "- resize all the images to a size of 32x32\n",
    "- convert them to single-channel images\n",
    "\n",
    "Dataset.getitem() should return:\n",
    "- two 32x32, single-channel images\n",
    "- one target label"
   ]
  },
  {
   "cell_type": "code",
   "execution_count": 5,
   "metadata": {},
   "outputs": [],
   "source": [
    "class ImageDataset(Dataset):\n",
    "    def __init__(self, info_file, index_file, image_dir, transform=None):\n",
    "        self.info_df = pd.read_csv(info_file)  \n",
    "        self.index_df = pd.read_csv(index_file, sep=',',header =None,names=['index','source'])\n",
    "        #self.classes = np.array(self.info_df.columns[1:]) # image labels \n",
    "        self.image_dir = image_dir\n",
    "        self.transform = transform\n",
    "\n",
    "    def __getitem__(self, idx):\n",
    "        img_index1 = self.info_df.iloc[idx, 0]\n",
    "        img_name1 = os.path.join(self.image_dir, str(self.index_df.iloc[img_index1-1, 1])[5:])\n",
    "        image1 = Image.open(img_name1)\n",
    "        image1 = image1.convert('L')\n",
    "        \n",
    "        img_index2 = self.info_df.iloc[idx, 1]\n",
    "        img_name2 = os.path.join(self.image_dir, str(self.index_df.iloc[img_index2-1, 1])[5:])\n",
    "        image2 = Image.open(img_name2)\n",
    "        image2 = image2.convert('L')\n",
    "        \n",
    "        label = self.info_df.iloc[idx, 2]\n",
    "        \n",
    "        if self.transform is not None:\n",
    "            image1 = self.transform(image1)\n",
    "            image2 = self.transform(image2)\n",
    "        \n",
    "        return image1, image2, label\n",
    "\n",
    "    def __len__(self):\n",
    "        return len(self.info_df)"
   ]
  },
  {
   "cell_type": "markdown",
   "metadata": {},
   "source": [
    "Check dataset"
   ]
  },
  {
   "cell_type": "code",
   "execution_count": 6,
   "metadata": {},
   "outputs": [],
   "source": [
    "# more transform functions can refer to https://pytorch.org/docs/stable/torchvision/transforms.html\n",
    "transform = transforms.Compose(\n",
    "    [transforms.Resize((32,32)),\n",
    "     transforms.ToTensor(),    # range [0, 255]  -> [0.0,1.0] Convert a PIL Image or numpy.ndarray (H x W x C)  to tensor (C x H x W) \n",
    "     transforms.Normalize((0.5,), (0.5,))   # channel=（channel-mean）/std  -> [-1, 1]\n",
    "     ])\n",
    "\n",
    "# if the image has one channel (grayscale), normalise operation will be \n",
    "#transforms.Normalize((0.5, ), (0.5, ))"
   ]
  },
  {
   "cell_type": "code",
   "execution_count": 7,
   "metadata": {},
   "outputs": [],
   "source": [
    "dataset = ImageDataset(PATH + 'train.csv', PATH + 'index.txt',PATH, transform=transform)"
   ]
  },
  {
   "cell_type": "markdown",
   "metadata": {},
   "source": [
    "Load image dataset"
   ]
  },
  {
   "cell_type": "code",
   "execution_count": 8,
   "metadata": {},
   "outputs": [],
   "source": [
    "train_set = ImageDataset(PATH + 'train.csv', PATH + 'index.txt', PATH, transform=transform)\n",
    "valid_set = ImageDataset(PATH + 'valid.csv', PATH + 'index.txt', PATH, transform=transform)\n",
    "test_set = ImageDataset(PATH + 'test.csv', PATH + 'index.txt', PATH, transform=transform)\n",
    "\n",
    "train_loader = DataLoader(train_set, batch_size=128, shuffle=True)\n",
    "valid_loader = DataLoader(valid_set, batch_size=128, shuffle=False)\n",
    "test_loader = DataLoader(test_set, batch_size=128,shuffle=False)\n"
   ]
  },
  {
   "cell_type": "markdown",
   "metadata": {},
   "source": [
    "### Define Convolutional Neural Network"
   ]
  },
  {
   "cell_type": "code",
   "execution_count": 9,
   "metadata": {},
   "outputs": [],
   "source": [
    "class Net(nn.Module):\n",
    "    def __init__(self, aggregation_type):\n",
    "        super(Net, self).__init__()\n",
    "        \n",
    "        \n",
    "        self.conv1 = nn.Conv2d(in_channels=1, out_channels=32, kernel_size=3, padding = 1) \n",
    "        self.bn1 = nn.BatchNorm2d(32)\n",
    "        self.relu1 = nn.ReLU(inplace=True)\n",
    "            \n",
    "        self.conv2 = nn.Conv2d(in_channels=32, out_channels=32, kernel_size=3, padding = 1)  \n",
    "        self.bn2 = nn.BatchNorm2d(32)\n",
    "        self.relu2 = nn.ReLU(inplace=True)\n",
    "            \n",
    "        self.maxPool = nn.MaxPool2d(kernel_size=2, stride=2)\n",
    "            \n",
    "        self.conv3 = nn.Conv2d(in_channels=32, out_channels=64, kernel_size=3, padding = 1)\n",
    "        self.bn3 = nn.BatchNorm2d(64)\n",
    "        self.relu3 = nn.ReLU(inplace=True)\n",
    "            \n",
    "        self.conv4 = nn.Conv2d(in_channels=64, out_channels=128, kernel_size=3, padding = 1)\n",
    "        self.bn4 = nn.BatchNorm2d(128)\n",
    "        self.relu4 = nn.ReLU(inplace=True)\n",
    "            \n",
    "        self.conv5 = nn.Conv2d(in_channels=128, out_channels=256, kernel_size=3, padding = 1)\n",
    "        self.bn5 = nn.BatchNorm2d(256)\n",
    "        self.relu5 = nn.ReLU(inplace=True)\n",
    "            \n",
    "        self.conv6 = nn.Conv2d(in_channels=256, out_channels=512, kernel_size=3, padding = 1)\n",
    "        self.bn6 = nn.BatchNorm2d(512)\n",
    "        self.relu6 = nn.ReLU(inplace=True)\n",
    "            \n",
    "        self.avg = nn.AvgPool2d(kernel_size=16,stride=1)\n",
    "            \n",
    "        self.flatten = nn.Flatten()\n",
    "            \n",
    "        \n",
    "        self.aggregation_type = aggregation_type\n",
    "        if(self.aggregation_type==\"concatenation\"):\n",
    "            self.fc1 = nn.Linear(1024,512) # concatenation\n",
    "        elif(self.aggregation_type==\"absolute_substraction\"):\n",
    "            self.fc1 = nn.Linear(512,512) # absolute substraction\n",
    "        self.drop_out = nn.Dropout(p=0.5)\n",
    "        self.fc2 = nn.Linear(512,1)\n",
    "\n",
    "    def forward(self, image1, image2):\n",
    "        \n",
    "        image1 = self.relu1(self.bn1(self.conv1(image1)))\n",
    "        image1 = self.relu2(self.bn2(self.conv2(image1)))\n",
    "        image1 = self.maxPool(image1)\n",
    "        image1 = self.relu3(self.bn3(self.conv3(image1)))\n",
    "        image1 = self.relu4(self.bn4(self.conv4(image1)))\n",
    "        image1 = self.relu5(self.bn5(self.conv5(image1)))\n",
    "        image1 = self.relu6(self.bn6(self.conv6(image1)))\n",
    "        image1 = self.avg(image1)\n",
    "        image1 = self.flatten(image1)\n",
    "        \n",
    "        image2 = self.relu1(self.bn1(self.conv1(image2)))\n",
    "        image2 = self.relu2(self.bn2(self.conv2(image2)))\n",
    "        image2 = self.maxPool(image2)\n",
    "        image2 = self.relu3(self.bn3(self.conv3(image2)))\n",
    "        image2 = self.relu4(self.bn4(self.conv4(image2)))\n",
    "        image2 = self.relu5(self.bn5(self.conv5(image2)))\n",
    "        image2 = self.relu6(self.bn6(self.conv6(image2)))\n",
    "        image2 = self.avg(image2)\n",
    "        image2 = self.flatten(image2)\n",
    "        \n",
    "        if(self.aggregation_type==\"concatenation\"):\n",
    "            h3 = torch.cat((image1,image2),1) #concatenation\n",
    "        elif(self.aggregation_type==\"absolute_substraction\"):\n",
    "            h3 = torch.abs(torch.sub(image1, image2)) #absolute substraction\n",
    "\n",
    "        output = F.relu(self.fc1(h3))\n",
    "        output = self.drop_out(output)\n",
    "        output = self.fc2(output)\n",
    "        output = nn.Sigmoid()(output)\n",
    "        #output = torch.reshape(output,(-1,))\n",
    "        \n",
    "        return output"
   ]
  },
  {
   "cell_type": "markdown",
   "metadata": {},
   "source": [
    "#### Function count the total number of trainable parameters"
   ]
  },
  {
   "cell_type": "markdown",
   "metadata": {},
   "source": [
    "When aggregation function is absolute difference"
   ]
  },
  {
   "cell_type": "code",
   "execution_count": 10,
   "metadata": {},
   "outputs": [
    {
     "ename": "RuntimeError",
     "evalue": "CUDA out of memory. Tried to allocate 64.00 MiB (GPU 0; 4.00 GiB total capacity; 104.04 MiB already allocated; 35.87 MiB free; 120.00 MiB reserved in total by PyTorch)",
     "output_type": "error",
     "traceback": [
      "\u001b[1;31m---------------------------------------------------------------------------\u001b[0m",
      "\u001b[1;31mRuntimeError\u001b[0m                              Traceback (most recent call last)",
      "\u001b[1;32m<ipython-input-10-59cfe940a47f>\u001b[0m in \u001b[0;36m<module>\u001b[1;34m\u001b[0m\n\u001b[0;32m      1\u001b[0m \u001b[0mmodel\u001b[0m \u001b[1;33m=\u001b[0m \u001b[0mNet\u001b[0m\u001b[1;33m(\u001b[0m\u001b[1;34m'absolute_substraction'\u001b[0m\u001b[1;33m)\u001b[0m\u001b[1;33m.\u001b[0m\u001b[0mcuda\u001b[0m\u001b[1;33m(\u001b[0m\u001b[1;33m)\u001b[0m\u001b[1;33m\u001b[0m\u001b[1;33m\u001b[0m\u001b[0m\n\u001b[1;32m----> 2\u001b[1;33m \u001b[0msummary\u001b[0m\u001b[1;33m(\u001b[0m\u001b[0mmodel\u001b[0m\u001b[1;33m,\u001b[0m \u001b[0mtorch\u001b[0m\u001b[1;33m.\u001b[0m\u001b[0mzeros\u001b[0m\u001b[1;33m(\u001b[0m\u001b[1;33m(\u001b[0m\u001b[1;36m128\u001b[0m\u001b[1;33m,\u001b[0m \u001b[1;36m1\u001b[0m\u001b[1;33m,\u001b[0m \u001b[1;36m32\u001b[0m\u001b[1;33m,\u001b[0m \u001b[1;36m32\u001b[0m\u001b[1;33m)\u001b[0m\u001b[1;33m)\u001b[0m\u001b[1;33m.\u001b[0m\u001b[0mcuda\u001b[0m\u001b[1;33m(\u001b[0m\u001b[1;33m)\u001b[0m\u001b[1;33m,\u001b[0m \u001b[0mtorch\u001b[0m\u001b[1;33m.\u001b[0m\u001b[0mzeros\u001b[0m\u001b[1;33m(\u001b[0m\u001b[1;33m(\u001b[0m\u001b[1;36m128\u001b[0m\u001b[1;33m,\u001b[0m \u001b[1;36m1\u001b[0m\u001b[1;33m,\u001b[0m \u001b[1;36m32\u001b[0m\u001b[1;33m,\u001b[0m \u001b[1;36m32\u001b[0m\u001b[1;33m)\u001b[0m\u001b[1;33m)\u001b[0m\u001b[1;33m.\u001b[0m\u001b[0mcuda\u001b[0m\u001b[1;33m(\u001b[0m\u001b[1;33m)\u001b[0m\u001b[1;33m)\u001b[0m\u001b[1;33m\u001b[0m\u001b[1;33m\u001b[0m\u001b[0m\n\u001b[0m",
      "\u001b[1;32m~\\anaconda3\\lib\\site-packages\\torchsummaryX\\torchsummaryX.py\u001b[0m in \u001b[0;36msummary\u001b[1;34m(model, x, *args, **kwargs)\u001b[0m\n\u001b[0;32m     84\u001b[0m     \u001b[1;32mtry\u001b[0m\u001b[1;33m:\u001b[0m\u001b[1;33m\u001b[0m\u001b[1;33m\u001b[0m\u001b[0m\n\u001b[0;32m     85\u001b[0m         \u001b[1;32mwith\u001b[0m \u001b[0mtorch\u001b[0m\u001b[1;33m.\u001b[0m\u001b[0mno_grad\u001b[0m\u001b[1;33m(\u001b[0m\u001b[1;33m)\u001b[0m\u001b[1;33m:\u001b[0m\u001b[1;33m\u001b[0m\u001b[1;33m\u001b[0m\u001b[0m\n\u001b[1;32m---> 86\u001b[1;33m             \u001b[0mmodel\u001b[0m\u001b[1;33m(\u001b[0m\u001b[0mx\u001b[0m\u001b[1;33m)\u001b[0m \u001b[1;32mif\u001b[0m \u001b[1;32mnot\u001b[0m \u001b[1;33m(\u001b[0m\u001b[0mkwargs\u001b[0m \u001b[1;32mor\u001b[0m \u001b[0margs\u001b[0m\u001b[1;33m)\u001b[0m \u001b[1;32melse\u001b[0m \u001b[0mmodel\u001b[0m\u001b[1;33m(\u001b[0m\u001b[0mx\u001b[0m\u001b[1;33m,\u001b[0m \u001b[1;33m*\u001b[0m\u001b[0margs\u001b[0m\u001b[1;33m,\u001b[0m \u001b[1;33m**\u001b[0m\u001b[0mkwargs\u001b[0m\u001b[1;33m)\u001b[0m\u001b[1;33m\u001b[0m\u001b[1;33m\u001b[0m\u001b[0m\n\u001b[0m\u001b[0;32m     87\u001b[0m     \u001b[1;32mfinally\u001b[0m\u001b[1;33m:\u001b[0m\u001b[1;33m\u001b[0m\u001b[1;33m\u001b[0m\u001b[0m\n\u001b[0;32m     88\u001b[0m         \u001b[1;32mfor\u001b[0m \u001b[0mhook\u001b[0m \u001b[1;32min\u001b[0m \u001b[0mhooks\u001b[0m\u001b[1;33m:\u001b[0m\u001b[1;33m\u001b[0m\u001b[1;33m\u001b[0m\u001b[0m\n",
      "\u001b[1;32m~\\anaconda3\\lib\\site-packages\\torch\\nn\\modules\\module.py\u001b[0m in \u001b[0;36m_call_impl\u001b[1;34m(self, *input, **kwargs)\u001b[0m\n\u001b[0;32m    725\u001b[0m             \u001b[0mresult\u001b[0m \u001b[1;33m=\u001b[0m \u001b[0mself\u001b[0m\u001b[1;33m.\u001b[0m\u001b[0m_slow_forward\u001b[0m\u001b[1;33m(\u001b[0m\u001b[1;33m*\u001b[0m\u001b[0minput\u001b[0m\u001b[1;33m,\u001b[0m \u001b[1;33m**\u001b[0m\u001b[0mkwargs\u001b[0m\u001b[1;33m)\u001b[0m\u001b[1;33m\u001b[0m\u001b[1;33m\u001b[0m\u001b[0m\n\u001b[0;32m    726\u001b[0m         \u001b[1;32melse\u001b[0m\u001b[1;33m:\u001b[0m\u001b[1;33m\u001b[0m\u001b[1;33m\u001b[0m\u001b[0m\n\u001b[1;32m--> 727\u001b[1;33m             \u001b[0mresult\u001b[0m \u001b[1;33m=\u001b[0m \u001b[0mself\u001b[0m\u001b[1;33m.\u001b[0m\u001b[0mforward\u001b[0m\u001b[1;33m(\u001b[0m\u001b[1;33m*\u001b[0m\u001b[0minput\u001b[0m\u001b[1;33m,\u001b[0m \u001b[1;33m**\u001b[0m\u001b[0mkwargs\u001b[0m\u001b[1;33m)\u001b[0m\u001b[1;33m\u001b[0m\u001b[1;33m\u001b[0m\u001b[0m\n\u001b[0m\u001b[0;32m    728\u001b[0m         for hook in itertools.chain(\n\u001b[0;32m    729\u001b[0m                 \u001b[0m_global_forward_hooks\u001b[0m\u001b[1;33m.\u001b[0m\u001b[0mvalues\u001b[0m\u001b[1;33m(\u001b[0m\u001b[1;33m)\u001b[0m\u001b[1;33m,\u001b[0m\u001b[1;33m\u001b[0m\u001b[1;33m\u001b[0m\u001b[0m\n",
      "\u001b[1;32m<ipython-input-9-f4e13bb7e91b>\u001b[0m in \u001b[0;36mforward\u001b[1;34m(self, image1, image2)\u001b[0m\n\u001b[0;32m     51\u001b[0m         \u001b[0mimage1\u001b[0m \u001b[1;33m=\u001b[0m \u001b[0mself\u001b[0m\u001b[1;33m.\u001b[0m\u001b[0mrelu4\u001b[0m\u001b[1;33m(\u001b[0m\u001b[0mself\u001b[0m\u001b[1;33m.\u001b[0m\u001b[0mbn4\u001b[0m\u001b[1;33m(\u001b[0m\u001b[0mself\u001b[0m\u001b[1;33m.\u001b[0m\u001b[0mconv4\u001b[0m\u001b[1;33m(\u001b[0m\u001b[0mimage1\u001b[0m\u001b[1;33m)\u001b[0m\u001b[1;33m)\u001b[0m\u001b[1;33m)\u001b[0m\u001b[1;33m\u001b[0m\u001b[1;33m\u001b[0m\u001b[0m\n\u001b[0;32m     52\u001b[0m         \u001b[0mimage1\u001b[0m \u001b[1;33m=\u001b[0m \u001b[0mself\u001b[0m\u001b[1;33m.\u001b[0m\u001b[0mrelu5\u001b[0m\u001b[1;33m(\u001b[0m\u001b[0mself\u001b[0m\u001b[1;33m.\u001b[0m\u001b[0mbn5\u001b[0m\u001b[1;33m(\u001b[0m\u001b[0mself\u001b[0m\u001b[1;33m.\u001b[0m\u001b[0mconv5\u001b[0m\u001b[1;33m(\u001b[0m\u001b[0mimage1\u001b[0m\u001b[1;33m)\u001b[0m\u001b[1;33m)\u001b[0m\u001b[1;33m)\u001b[0m\u001b[1;33m\u001b[0m\u001b[1;33m\u001b[0m\u001b[0m\n\u001b[1;32m---> 53\u001b[1;33m         \u001b[0mimage1\u001b[0m \u001b[1;33m=\u001b[0m \u001b[0mself\u001b[0m\u001b[1;33m.\u001b[0m\u001b[0mrelu6\u001b[0m\u001b[1;33m(\u001b[0m\u001b[0mself\u001b[0m\u001b[1;33m.\u001b[0m\u001b[0mbn6\u001b[0m\u001b[1;33m(\u001b[0m\u001b[0mself\u001b[0m\u001b[1;33m.\u001b[0m\u001b[0mconv6\u001b[0m\u001b[1;33m(\u001b[0m\u001b[0mimage1\u001b[0m\u001b[1;33m)\u001b[0m\u001b[1;33m)\u001b[0m\u001b[1;33m)\u001b[0m\u001b[1;33m\u001b[0m\u001b[1;33m\u001b[0m\u001b[0m\n\u001b[0m\u001b[0;32m     54\u001b[0m         \u001b[0mimage1\u001b[0m \u001b[1;33m=\u001b[0m \u001b[0mself\u001b[0m\u001b[1;33m.\u001b[0m\u001b[0mavg\u001b[0m\u001b[1;33m(\u001b[0m\u001b[0mimage1\u001b[0m\u001b[1;33m)\u001b[0m\u001b[1;33m\u001b[0m\u001b[1;33m\u001b[0m\u001b[0m\n\u001b[0;32m     55\u001b[0m         \u001b[0mimage1\u001b[0m \u001b[1;33m=\u001b[0m \u001b[0mself\u001b[0m\u001b[1;33m.\u001b[0m\u001b[0mflatten\u001b[0m\u001b[1;33m(\u001b[0m\u001b[0mimage1\u001b[0m\u001b[1;33m)\u001b[0m\u001b[1;33m\u001b[0m\u001b[1;33m\u001b[0m\u001b[0m\n",
      "\u001b[1;32m~\\anaconda3\\lib\\site-packages\\torch\\nn\\modules\\module.py\u001b[0m in \u001b[0;36m_call_impl\u001b[1;34m(self, *input, **kwargs)\u001b[0m\n\u001b[0;32m    725\u001b[0m             \u001b[0mresult\u001b[0m \u001b[1;33m=\u001b[0m \u001b[0mself\u001b[0m\u001b[1;33m.\u001b[0m\u001b[0m_slow_forward\u001b[0m\u001b[1;33m(\u001b[0m\u001b[1;33m*\u001b[0m\u001b[0minput\u001b[0m\u001b[1;33m,\u001b[0m \u001b[1;33m**\u001b[0m\u001b[0mkwargs\u001b[0m\u001b[1;33m)\u001b[0m\u001b[1;33m\u001b[0m\u001b[1;33m\u001b[0m\u001b[0m\n\u001b[0;32m    726\u001b[0m         \u001b[1;32melse\u001b[0m\u001b[1;33m:\u001b[0m\u001b[1;33m\u001b[0m\u001b[1;33m\u001b[0m\u001b[0m\n\u001b[1;32m--> 727\u001b[1;33m             \u001b[0mresult\u001b[0m \u001b[1;33m=\u001b[0m \u001b[0mself\u001b[0m\u001b[1;33m.\u001b[0m\u001b[0mforward\u001b[0m\u001b[1;33m(\u001b[0m\u001b[1;33m*\u001b[0m\u001b[0minput\u001b[0m\u001b[1;33m,\u001b[0m \u001b[1;33m**\u001b[0m\u001b[0mkwargs\u001b[0m\u001b[1;33m)\u001b[0m\u001b[1;33m\u001b[0m\u001b[1;33m\u001b[0m\u001b[0m\n\u001b[0m\u001b[0;32m    728\u001b[0m         for hook in itertools.chain(\n\u001b[0;32m    729\u001b[0m                 \u001b[0m_global_forward_hooks\u001b[0m\u001b[1;33m.\u001b[0m\u001b[0mvalues\u001b[0m\u001b[1;33m(\u001b[0m\u001b[1;33m)\u001b[0m\u001b[1;33m,\u001b[0m\u001b[1;33m\u001b[0m\u001b[1;33m\u001b[0m\u001b[0m\n",
      "\u001b[1;32m~\\anaconda3\\lib\\site-packages\\torch\\nn\\modules\\batchnorm.py\u001b[0m in \u001b[0;36mforward\u001b[1;34m(self, input)\u001b[0m\n\u001b[0;32m    134\u001b[0m             \u001b[0mself\u001b[0m\u001b[1;33m.\u001b[0m\u001b[0mrunning_mean\u001b[0m \u001b[1;32mif\u001b[0m \u001b[1;32mnot\u001b[0m \u001b[0mself\u001b[0m\u001b[1;33m.\u001b[0m\u001b[0mtraining\u001b[0m \u001b[1;32mor\u001b[0m \u001b[0mself\u001b[0m\u001b[1;33m.\u001b[0m\u001b[0mtrack_running_stats\u001b[0m \u001b[1;32melse\u001b[0m \u001b[1;32mNone\u001b[0m\u001b[1;33m,\u001b[0m\u001b[1;33m\u001b[0m\u001b[1;33m\u001b[0m\u001b[0m\n\u001b[0;32m    135\u001b[0m             \u001b[0mself\u001b[0m\u001b[1;33m.\u001b[0m\u001b[0mrunning_var\u001b[0m \u001b[1;32mif\u001b[0m \u001b[1;32mnot\u001b[0m \u001b[0mself\u001b[0m\u001b[1;33m.\u001b[0m\u001b[0mtraining\u001b[0m \u001b[1;32mor\u001b[0m \u001b[0mself\u001b[0m\u001b[1;33m.\u001b[0m\u001b[0mtrack_running_stats\u001b[0m \u001b[1;32melse\u001b[0m \u001b[1;32mNone\u001b[0m\u001b[1;33m,\u001b[0m\u001b[1;33m\u001b[0m\u001b[1;33m\u001b[0m\u001b[0m\n\u001b[1;32m--> 136\u001b[1;33m             self.weight, self.bias, bn_training, exponential_average_factor, self.eps)\n\u001b[0m\u001b[0;32m    137\u001b[0m \u001b[1;33m\u001b[0m\u001b[0m\n\u001b[0;32m    138\u001b[0m \u001b[1;33m\u001b[0m\u001b[0m\n",
      "\u001b[1;32m~\\anaconda3\\lib\\site-packages\\torch\\nn\\functional.py\u001b[0m in \u001b[0;36mbatch_norm\u001b[1;34m(input, running_mean, running_var, weight, bias, training, momentum, eps)\u001b[0m\n\u001b[0;32m   2056\u001b[0m     return torch.batch_norm(\n\u001b[0;32m   2057\u001b[0m         \u001b[0minput\u001b[0m\u001b[1;33m,\u001b[0m \u001b[0mweight\u001b[0m\u001b[1;33m,\u001b[0m \u001b[0mbias\u001b[0m\u001b[1;33m,\u001b[0m \u001b[0mrunning_mean\u001b[0m\u001b[1;33m,\u001b[0m \u001b[0mrunning_var\u001b[0m\u001b[1;33m,\u001b[0m\u001b[1;33m\u001b[0m\u001b[1;33m\u001b[0m\u001b[0m\n\u001b[1;32m-> 2058\u001b[1;33m         \u001b[0mtraining\u001b[0m\u001b[1;33m,\u001b[0m \u001b[0mmomentum\u001b[0m\u001b[1;33m,\u001b[0m \u001b[0meps\u001b[0m\u001b[1;33m,\u001b[0m \u001b[0mtorch\u001b[0m\u001b[1;33m.\u001b[0m\u001b[0mbackends\u001b[0m\u001b[1;33m.\u001b[0m\u001b[0mcudnn\u001b[0m\u001b[1;33m.\u001b[0m\u001b[0menabled\u001b[0m\u001b[1;33m\u001b[0m\u001b[1;33m\u001b[0m\u001b[0m\n\u001b[0m\u001b[0;32m   2059\u001b[0m     )\n\u001b[0;32m   2060\u001b[0m \u001b[1;33m\u001b[0m\u001b[0m\n",
      "\u001b[1;31mRuntimeError\u001b[0m: CUDA out of memory. Tried to allocate 64.00 MiB (GPU 0; 4.00 GiB total capacity; 104.04 MiB already allocated; 35.87 MiB free; 120.00 MiB reserved in total by PyTorch)"
     ]
    }
   ],
   "source": [
    "model = Net('absolute_substraction').cuda()\n",
    "summary(model, torch.zeros((128, 1, 32, 32)).cuda(), torch.zeros((128, 1, 32, 32)).cuda())"
   ]
  },
  {
   "cell_type": "markdown",
   "metadata": {},
   "source": [
    "When aggregation function is concatenation"
   ]
  },
  {
   "cell_type": "code",
   "execution_count": null,
   "metadata": {},
   "outputs": [],
   "source": [
    "model = Net('concatenation').cuda()\n",
    "summary(model, torch.zeros((128, 1, 32, 32)).cuda(), torch.zeros((128, 1, 32, 32)).cuda())"
   ]
  },
  {
   "cell_type": "markdown",
   "metadata": {},
   "source": [
    "### 4.2.3 Training and Validation"
   ]
  },
  {
   "cell_type": "code",
   "execution_count": null,
   "metadata": {},
   "outputs": [],
   "source": [
    "def save_checkpoint(save_path, model, optimizer, val_loss):\n",
    "    if save_path==None:\n",
    "        return\n",
    "    save_path = save_path \n",
    "    state_dict = {'model_state_dict': model.state_dict(),\n",
    "                  'optimizer_state_dict': optimizer.state_dict(),\n",
    "                  'val_loss': val_loss}\n",
    "\n",
    "    torch.save(state_dict, save_path)\n",
    "    print(f'Model saved to {save_path}')\n",
    "\n",
    "def load_checkpoint(save_path, model, optimizer):\n",
    "    save_path = save_path #f'cifar_net.pt'\n",
    "    state_dict = torch.load(save_path)\n",
    "    model.load_state_dict(state_dict['model_state_dict'])\n",
    "    optimizer.load_state_dict(state_dict['optimizer_state_dict'])\n",
    "    val_loss = state_dict['val_loss']\n",
    "    print(f'Model loaded from {save_path}, with val loss: {val_loss}')\n",
    "    return val_loss\n",
    "\n",
    "def TRAIN(net, train_loader, valid_loader,  num_epochs, criterion, optimizer, val_loss,threshold, device, save_name):\n",
    "    \n",
    "    step_list = []\n",
    "    training_loss_list = []\n",
    "    valid_loss_list = []\n",
    "    \n",
    "    if val_loss==None:\n",
    "        best_val_loss = float(\"Inf\")  \n",
    "    else: \n",
    "        best_val_loss=val_loss\n",
    "        print('Resume training')\n",
    "\n",
    "\n",
    "    no_step = 0;\n",
    "    for epoch in range(num_epochs):  # loop over the dataset multiple times\n",
    "        net.train()\n",
    "        running_loss = 0.0\n",
    "        running_corrects = 0\n",
    "        for input1,input2, labels in tqdm(train_loader):\n",
    "            \n",
    "            no_step +=1\n",
    "            input1 = input1.to(device)\n",
    "            input2 = input2.to(device)\n",
    "            labels = labels.to(device)\n",
    "            \n",
    "            labels = labels.unsqueeze(1)\n",
    "            labels = labels.float()\n",
    "\n",
    "            '''Training of the model'''\n",
    "            # Forward pass\n",
    "            outputs = net(input1, input2)\n",
    "            \n",
    "            loss = criterion(outputs, labels)\n",
    "\n",
    "            # Backward and optimize\n",
    "            optimizer.zero_grad()\n",
    "            loss.backward()\n",
    "            optimizer.step()\n",
    "\n",
    "            training_loss = loss.item()\n",
    "            running_loss += loss.item()\n",
    "            preds = torch.gt(outputs, threshold).int()                       \n",
    "            running_corrects += torch.sum(preds == labels.data)            \n",
    "            \n",
    "            with torch.no_grad():\n",
    "                net.eval()\n",
    "                running_loss_valid = 0.0\n",
    "                running_corrects_valid = 0\n",
    "                for input1_valid,input2_valid, labels_valid in tqdm(valid_loader):\n",
    "            \n",
    "                    input1_valid = input1_valid.to(device)\n",
    "                    input2_valid = input2_valid.to(device)\n",
    "                    labels_valid = labels_valid.to(device)\n",
    "\n",
    "                    labels_valid = labels_valid.unsqueeze(1)\n",
    "                    labels_valid = labels_valid.float()\n",
    "\n",
    "                    outputs_valid = net(input1_valid,input2_valid)\n",
    "                    loss_valid = criterion(outputs_valid, labels_valid)\n",
    "\n",
    "                    running_loss_valid += loss_valid.item()\n",
    "                    preds_valid = torch.gt(outputs_valid, threshold).int()\n",
    "                    running_corrects_valid += torch.sum(preds_valid == labels_valid.data)\n",
    "\n",
    "                valid_loss = running_loss_valid / len(valid_loader)\n",
    "                valid_acc = running_corrects_valid / float(len(valid_loader.dataset))\n",
    "            \n",
    "            if(no_step%10==0):\n",
    "                step_list.append(no_step)\n",
    "                training_loss_list.append(training_loss)\n",
    "                valid_loss_list.append(valid_loss)\n",
    "                \n",
    "                print(\"step \",no_step,\" training loss: \",training_loss,\", validation loss: \",valid_loss,\"\\n\")\n",
    "            \n",
    "\n",
    "        train_loss = running_loss / len(train_loader)\n",
    "        train_acc = running_corrects / float(len(train_loader.dataset))\n",
    "\n",
    "        with torch.no_grad():\n",
    "            net.eval()\n",
    "            running_loss = 0.0\n",
    "            running_corrects = 0\n",
    "            for input1,input2, labels in tqdm(valid_loader):\n",
    "            \n",
    "                input1 = input1.to(device)\n",
    "                input2 = input2.to(device)\n",
    "                labels = labels.to(device)\n",
    "                \n",
    "                labels = labels.unsqueeze(1)\n",
    "                labels = labels.float()\n",
    "\n",
    "                outputs = net(input1,input2)\n",
    "                loss = criterion(outputs, labels)\n",
    "\n",
    "                running_loss += loss.item()\n",
    "                preds = torch.gt(outputs, threshold).int()\n",
    "                running_corrects += torch.sum(preds == labels.data)\n",
    "\n",
    "            valid_loss = running_loss / len(valid_loader)\n",
    "            valid_acc = running_corrects / float(len(valid_loader.dataset))\n",
    "\n",
    "        print('Epoch [{}/{}], Train Loss: {:.4f}, Train Acc: {:.4f}, Valid Loss: {:.4f},  Valid Acc: {:.4f}'\n",
    "              .format(epoch+1, num_epochs, train_loss, train_acc, valid_loss, valid_acc))\n",
    "\n",
    "        if valid_loss < best_val_loss:\n",
    "            best_val_loss = valid_loss\n",
    "            save_checkpoint(save_name, net, optimizer, best_val_loss)\n",
    "    \n",
    "    plt.plot(step_list,training_loss_list,label=\"Training Loss\")\n",
    "    plt.plot(step_list,valid_loss_list,label=\"Validation Loss\")\n",
    "    plt.xlabel('Number of steps')\n",
    "    # Set a title of the current axes.\n",
    "    plt.title('Traning and Validation loss curves')\n",
    "    # show a legend on the plot\n",
    "    plt.legend()\n",
    "    # Display a figure.\n",
    "    plt.show()\n",
    "    \n",
    "    print('Finished Training')"
   ]
  },
  {
   "cell_type": "code",
   "execution_count": null,
   "metadata": {},
   "outputs": [],
   "source": [
    "model = Net(\"absolute_substraction\").cuda()\n",
    "num_epochs = 30\n",
    "best_val_loss = None\n",
    "criterion = nn.BCELoss()\n",
    "optimizer = optim.Adam(model.parameters(), lr=0.0001)\n",
    "threshold = 0.5\n",
    "save_path = f'cifar_net.pt'\n",
    "model = model.to(device)\n",
    "\n",
    "\n",
    "TRAIN(model, train_loader, valid_loader, num_epochs, criterion, optimizer, best_val_loss,threshold, device, save_path)"
   ]
  },
  {
   "cell_type": "markdown",
   "metadata": {},
   "source": [
    "### 4.2.4 Evaluation"
   ]
  },
  {
   "cell_type": "code",
   "execution_count": null,
   "metadata": {},
   "outputs": [],
   "source": [
    "def eval(net, valid_loader):\n",
    "    max_valid_acc = 0\n",
    "    optimal_threshold = 0\n",
    "    threshold_array = np.arange(0.0, 1.0, 0.02)\n",
    "    for threshold in threshold_array:\n",
    "        print(threshold)\n",
    "        with torch.no_grad():\n",
    "            running_loss = 0.0\n",
    "            running_corrects = 0\n",
    "            for input1,input2, labels in tqdm(valid_loader):\n",
    "\n",
    "                input1 = input1.to(device)\n",
    "                input2 = input2.to(device)\n",
    "\n",
    "                labels = labels.to(device)\n",
    "                labels = labels.unsqueeze(1)\n",
    "                labels = labels.float()\n",
    "\n",
    "                outputs = net(input1,input2)\n",
    "                preds = torch.gt(outputs, threshold).int()\n",
    "\n",
    "                running_corrects += torch.sum(preds == labels.data)\n",
    "\n",
    "            valid_acc = running_corrects / float(len(valid_loader.dataset))\n",
    "            print(\"valid_acc: \", valid_acc)\n",
    "            if(valid_acc > max_valid_acc):\n",
    "                max_valid_acc = valid_acc\n",
    "                optimal_threshold = threshold\n",
    "    return max_valid_acc,optimal_threshold\n",
    "                    "
   ]
  },
  {
   "cell_type": "code",
   "execution_count": null,
   "metadata": {},
   "outputs": [],
   "source": [
    "max_valid_acc,optimal_threshold = eval(model, valid_loader)"
   ]
  },
  {
   "cell_type": "code",
   "execution_count": null,
   "metadata": {},
   "outputs": [],
   "source": [
    "print(\"validation accuracy: \",max_valid_acc,\" with threshold: \", optimal_threshold)"
   ]
  },
  {
   "cell_type": "markdown",
   "metadata": {},
   "source": [
    "### Predict output"
   ]
  },
  {
   "cell_type": "code",
   "execution_count": null,
   "metadata": {},
   "outputs": [],
   "source": [
    "class ImageTestset(Dataset):\n",
    "    def __init__(self, info_file, index_file, image_dir, transform=None):\n",
    "        self.info_df = pd.read_csv(info_file)  \n",
    "        self.index_df = pd.read_csv(index_file, sep=',',header =None,names=['index','source'])\n",
    "        #self.classes = np.array(self.info_df.columns[1:]) # image labels \n",
    "        self.image_dir = image_dir\n",
    "        self.transform = transform\n",
    "\n",
    "    def __getitem__(self, idx):\n",
    "        img_index1 = self.info_df.iloc[idx, 0]\n",
    "        img_name1 = os.path.join(self.image_dir, str(self.index_df.iloc[img_index1-1, 1])[5:])\n",
    "        image1 = Image.open(img_name1)\n",
    "        image1 = image1.convert('L')\n",
    "\n",
    "        img_index2 = self.info_df.iloc[idx, 1]\n",
    "        img_name2 = os.path.join(self.image_dir, str(self.index_df.iloc[img_index2-1, 1])[5:])\n",
    "        image2 = Image.open(img_name2)\n",
    "        image2 = image2.convert('L')\n",
    "        \n",
    "        if self.transform is not None:\n",
    "            image1 = self.transform(image1)\n",
    "            image2 = self.transform(image2)\n",
    "        \n",
    "        return image1, image2\n",
    "\n",
    "    def __len__(self):\n",
    "        return len(self.info_df)"
   ]
  },
  {
   "cell_type": "code",
   "execution_count": null,
   "metadata": {},
   "outputs": [],
   "source": [
    "test_set = ImageTestset(PATH + 'test.csv', PATH + 'index.txt', PATH, transform=transform)\n",
    "test_loader = DataLoader(test_set,\n",
    "                         num_workers = 0,\n",
    "                         batch_size=1,\n",
    "                         shuffle=False)\n",
    "test_df = pd.read_csv(PATH + 'test.csv')"
   ]
  },
  {
   "cell_type": "code",
   "execution_count": null,
   "metadata": {},
   "outputs": [],
   "source": [
    "predictions=[]\n",
    "i = 0\n",
    "with torch.no_grad():\n",
    "    for input1,input2 in tqdm(test_loader):\n",
    "        input1 = input1.to(device)\n",
    "        input2 = input2.to(device)\n",
    "\n",
    "        outputs = model(input1,input2)\n",
    "        preds = torch.gt(outputs, optimal_threshold).int()\n",
    "    \n",
    "        predictions.append(preds.cpu().numpy().ravel()[0])\n",
    "        \n",
    "test_df['target'] = predictions\n",
    "\n",
    "test_df.to_csv(\"submission_QA8_Optimization_1.csv\", index=False)#submission.csv should be placed directly in current fold.\n",
    "test_df.head(50)#show the result to be committed"
   ]
  }
 ],
 "metadata": {
  "kernelspec": {
   "display_name": "Python 3",
   "language": "python",
   "name": "python3"
  },
  "language_info": {
   "codemirror_mode": {
    "name": "ipython",
    "version": 3
   },
   "file_extension": ".py",
   "mimetype": "text/x-python",
   "name": "python",
   "nbconvert_exporter": "python",
   "pygments_lexer": "ipython3",
   "version": "3.7.6"
  }
 },
 "nbformat": 4,
 "nbformat_minor": 4
}
